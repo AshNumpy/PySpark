{
 "cells": [
  {
   "cell_type": "markdown",
   "metadata": {},
   "source": [
    "### What is Real Time Data Analytics\n",
    "\n",
    "* Real Time Data Analytics  \n",
    "    - Analyze data as soon as it is produced (~0 ms latency)  \n",
    "* Near Real Time Analytics  \n",
    "    - Analyze data within a fixed time frame\n",
    "    - Use-Case defines the time frame  \n",
    "* Real Time Analytics vs Traditional Batch Analytics "
   ]
  },
  {
   "cell_type": "markdown",
   "metadata": {},
   "source": [
    "### Use-Cases of Real Time Data Analytics\n",
    "\n",
    "* İntensive Care (ICU) monitoring systems (Health Care)\n",
    "* Fraud Detection (Finance/Cyber Security)\n",
    "* Application Health Monitoring (Internet)\n",
    "* User Sentiment Analysis (Social Media)\n",
    "* Live Traffic Management (Google Maps)\n",
    "* High Frequency Stock Trading (Finance)\n",
    "* Self Driving Cars"
   ]
  }
 ],
 "metadata": {
  "language_info": {
   "name": "python"
  },
  "orig_nbformat": 4
 },
 "nbformat": 4,
 "nbformat_minor": 2
}
