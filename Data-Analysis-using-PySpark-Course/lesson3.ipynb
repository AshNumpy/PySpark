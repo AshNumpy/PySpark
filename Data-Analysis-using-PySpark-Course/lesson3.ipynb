{
 "cells": [
  {
   "cell_type": "markdown",
   "metadata": {},
   "source": [
    "### Spark Streaming for Real Time Analytics...\n",
    "\n",
    "* Data Stream is modeled as a Sequence of Datasets\n",
    "    - Sequenced by a time frame\n",
    "    - Ex: Events in last 5 secs form a dataset  \n",
    "* Spark collects data into the corresponding dataset as data arrives\n",
    "* Spark allows us to analyze each dataset as soon as its full\n",
    "    - Near Real Time Analytics  \n",
    "* These datasets are called Spark RDDs\n",
    "* DStreams can be transformed into new DStreams using\n",
    "    - map\n",
    "    - filter \n",
    "    - union\n",
    "    - reduce  \n",
    "* DStreams can be saved/output using\n",
    "    - print\n",
    "    - saveAsTextFiles / saveAsHadoopFiles\n",
    "    - forEachRDD"
   ]
  }
 ],
 "metadata": {
  "language_info": {
   "name": "python"
  },
  "orig_nbformat": 4
 },
 "nbformat": 4,
 "nbformat_minor": 2
}
