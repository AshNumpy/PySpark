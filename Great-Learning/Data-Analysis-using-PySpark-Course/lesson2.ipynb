{
 "cells": [
  {
   "cell_type": "markdown",
   "metadata": {},
   "source": [
    "### Modeling Real Time Data for Analytics\n",
    "\n",
    "* Data as a Stream of Events, continuously flowing\n",
    "* Wach Event in the Stream has  \n",
    "    - Timestamp: When it occured\n",
    "    - Data: What actually occured"
   ]
  },
  {
   "cell_type": "markdown",
   "metadata": {},
   "source": [
    "### Types of Real Time Data Analytics\n",
    "\n",
    "* Aggregated stats from recent events\n",
    "    - Page load errors in last 5 secs\n",
    "    - Revenue per category in last 1 min  \n",
    "* Applying Machine Learning MOdels on each event\n",
    "    - Will this active user make a purchase\n",
    "    - Should the system bu this stock  \n",
    "* Building Mchine Learning MOdels on the fly"
   ]
  }
 ],
 "metadata": {
  "language_info": {
   "name": "python"
  },
  "orig_nbformat": 4
 },
 "nbformat": 4,
 "nbformat_minor": 2
}
