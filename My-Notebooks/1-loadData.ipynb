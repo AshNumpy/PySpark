{
 "cells": [
  {
   "cell_type": "code",
   "execution_count": 1,
   "metadata": {},
   "outputs": [
    {
     "data": {
      "text/html": [
       "\n",
       "            <div>\n",
       "                <p><b>SparkSession - in-memory</b></p>\n",
       "                \n",
       "        <div>\n",
       "            <p><b>SparkContext</b></p>\n",
       "\n",
       "            <p><a href=\"http://10.225.254.73:4040\">Spark UI</a></p>\n",
       "\n",
       "            <dl>\n",
       "              <dt>Version</dt>\n",
       "                <dd><code>v3.4.1</code></dd>\n",
       "              <dt>Master</dt>\n",
       "                <dd><code>local[*]</code></dd>\n",
       "              <dt>AppName</dt>\n",
       "                <dd><code>loadData</code></dd>\n",
       "            </dl>\n",
       "        </div>\n",
       "        \n",
       "            </div>\n",
       "        "
      ],
      "text/plain": [
       "<pyspark.sql.session.SparkSession at 0x20d7f052190>"
      ]
     },
     "execution_count": 1,
     "metadata": {},
     "output_type": "execute_result"
    }
   ],
   "source": [
    "from pyspark.sql import SparkSession\n",
    "spark = SparkSession.builder.appName('loadData').getOrCreate()\n",
    "spark"
   ]
  },
  {
   "cell_type": "code",
   "execution_count": 2,
   "metadata": {},
   "outputs": [
    {
     "name": "stdout",
     "output_type": "stream",
     "text": [
      "+---+---------+----+-----+-------+---+----+-----+\n",
      "|_c0|StepCount|Kcal|Miles|Weather|Day|Walk|Steps|\n",
      "+---+---------+----+-----+-------+---+----+-----+\n",
      "|  1|     2615|   8|  1.4|  shine|  F|   0|2.615|\n",
      "|  2|     3323|  12|  1.8|  shine|  S|   0|3.323|\n",
      "|  3|     2721|  13|  1.4|  shine|  U|   0|2.721|\n",
      "+---+---------+----+-----+-------+---+----+-----+\n",
      "only showing top 3 rows\n",
      "\n"
     ]
    }
   ],
   "source": [
    "df = spark.read.option('header', 'true').csv('../Datasets/dataset.csv')\n",
    "df.show(3)"
   ]
  },
  {
   "cell_type": "code",
   "execution_count": 3,
   "metadata": {},
   "outputs": [
    {
     "name": "stdout",
     "output_type": "stream",
     "text": [
      "+---+---------+----+-----+-------+---+----+-----+\n",
      "| ID|StepCount|Kcal|Miles|Weather|Day|Walk|Steps|\n",
      "+---+---------+----+-----+-------+---+----+-----+\n",
      "|  1|     2615|   8|  1.4|  shine|  F|   0| null|\n",
      "|  2|     3323|  12|  1.8|  shine|  S|   0| null|\n",
      "|  3|     2721|  13|  1.4|  shine|  U|   0| null|\n",
      "+---+---------+----+-----+-------+---+----+-----+\n",
      "only showing top 3 rows\n",
      "\n"
     ]
    }
   ],
   "source": [
    "from pyspark.sql.types import *\n",
    "\n",
    "schema = StructType([\n",
    "    StructField(\"ID\", IntegerType()),\n",
    "    StructField(\"StepCount\", IntegerType()),\n",
    "    StructField(\"Kcal\", IntegerType()),\n",
    "    StructField(\"Miles\", FloatType()),\n",
    "    StructField(\"Weather\", StringType()),\n",
    "    StructField(\"Day\", StringType()),\n",
    "    StructField(\"Walk\", IntegerType()),\n",
    "    StructField(\"Steps\", IntegerType())\n",
    "])\n",
    "\n",
    "df = spark.read.csv('../Datasets/dataset.csv', schema=schema, header=True)\n",
    "df.show(3)"
   ]
  },
  {
   "cell_type": "code",
   "execution_count": 4,
   "metadata": {},
   "outputs": [
    {
     "name": "stdout",
     "output_type": "stream",
     "text": [
      "+---+---------+----+-----+-------+---+----+-----+\n",
      "|_c0|StepCount|Kcal|Miles|Weather|Day|Walk|Steps|\n",
      "+---+---------+----+-----+-------+---+----+-----+\n",
      "|  1|     2615|   8|  1.4|  shine|  F|   0|2.615|\n",
      "|  2|     3323|  12|  1.8|  shine|  S|   0|3.323|\n",
      "|  3|     2721|  13|  1.4|  shine|  U|   0|2.721|\n",
      "+---+---------+----+-----+-------+---+----+-----+\n",
      "only showing top 3 rows\n",
      "\n"
     ]
    }
   ],
   "source": [
    "df = spark.read.csv('../Datasets/dataset.csv', inferSchema=True, header=True)\n",
    "df.show(3)"
   ]
  },
  {
   "cell_type": "code",
   "execution_count": 5,
   "metadata": {},
   "outputs": [
    {
     "name": "stdout",
     "output_type": "stream",
     "text": [
      "+---+---------+----+-----+-------+---+----+-----+\n",
      "|_c0|StepCount|Kcal|Miles|Weather|Day|Walk|Steps|\n",
      "+---+---------+----+-----+-------+---+----+-----+\n",
      "|  1|     2615|   8|  1.4|  shine|  F|   0|2.615|\n",
      "|  2|     3323|  12|  1.8|  shine|  S|   0|3.323|\n",
      "|  3|     2721|  13|  1.4|  shine|  U|   0|2.721|\n",
      "+---+---------+----+-----+-------+---+----+-----+\n",
      "only showing top 3 rows\n",
      "\n"
     ]
    }
   ],
   "source": [
    "df = spark.read.csv('../Datasets/dataset.csv', nullValue='NA', header=True)\n",
    "df.show(3)"
   ]
  },
  {
   "cell_type": "code",
   "execution_count": null,
   "metadata": {},
   "outputs": [],
   "source": []
  }
 ],
 "metadata": {
  "kernelspec": {
   "display_name": "Python 3",
   "language": "python",
   "name": "python3"
  },
  "language_info": {
   "codemirror_mode": {
    "name": "ipython",
    "version": 3
   },
   "file_extension": ".py",
   "mimetype": "text/x-python",
   "name": "python",
   "nbconvert_exporter": "python",
   "pygments_lexer": "ipython3",
   "version": "3.11.3"
  },
  "orig_nbformat": 4
 },
 "nbformat": 4,
 "nbformat_minor": 2
}
