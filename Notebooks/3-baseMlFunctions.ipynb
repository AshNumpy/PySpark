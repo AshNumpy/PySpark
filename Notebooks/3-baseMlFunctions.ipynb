{
 "cells": [
  {
   "cell_type": "code",
   "execution_count": 1,
   "metadata": {},
   "outputs": [
    {
     "data": {
      "text/html": [
       "\n",
       "            <div>\n",
       "                <p><b>SparkSession - in-memory</b></p>\n",
       "                \n",
       "        <div>\n",
       "            <p><b>SparkContext</b></p>\n",
       "\n",
       "            <p><a href=\"http://10.225.254.73:4040\">Spark UI</a></p>\n",
       "\n",
       "            <dl>\n",
       "              <dt>Version</dt>\n",
       "                <dd><code>v3.3.2</code></dd>\n",
       "              <dt>Master</dt>\n",
       "                <dd><code>local[*]</code></dd>\n",
       "              <dt>AppName</dt>\n",
       "                <dd><code>Base Functions</code></dd>\n",
       "            </dl>\n",
       "        </div>\n",
       "        \n",
       "            </div>\n",
       "        "
      ],
      "text/plain": [
       "<pyspark.sql.session.SparkSession at 0x1e32537a990>"
      ]
     },
     "execution_count": 1,
     "metadata": {},
     "output_type": "execute_result"
    }
   ],
   "source": [
    "from pyspark.sql import SparkSession\n",
    "\n",
    "spark = SparkSession.builder.appName('Base Functions').getOrCreate()\n",
    "spark"
   ]
  },
  {
   "cell_type": "code",
   "execution_count": 2,
   "metadata": {},
   "outputs": [],
   "source": [
    "df = spark.read.csv('../Datasets/dataset.csv', inferSchema=True, header=True)"
   ]
  },
  {
   "cell_type": "code",
   "execution_count": 3,
   "metadata": {},
   "outputs": [
    {
     "name": "stdout",
     "output_type": "stream",
     "text": [
      "+---+---------+----+-----+-------+---+----+-----+\n",
      "|_c0|StepCount|Kcal|Miles|Weather|Day|Walk|Steps|\n",
      "+---+---------+----+-----+-------+---+----+-----+\n",
      "|  1|     2615|   8|  1.4|  shine|  F|   0|2.615|\n",
      "|  2|     3323|  12|  1.8|  shine|  S|   0|3.323|\n",
      "|  3|     2721|  13|  1.4|  shine|  U|   0|2.721|\n",
      "|  4|     2454|  12|  1.3|  shine|  M|   0|2.454|\n",
      "|  5|     5528| 152|  3.1|   cold|  T|   1|5.528|\n",
      "+---+---------+----+-----+-------+---+----+-----+\n",
      "only showing top 5 rows\n",
      "\n"
     ]
    }
   ],
   "source": [
    "df.show(5)"
   ]
  },
  {
   "cell_type": "markdown",
   "metadata": {},
   "source": [
    "Counting number of rows"
   ]
  },
  {
   "cell_type": "code",
   "execution_count": 4,
   "metadata": {},
   "outputs": [
    {
     "data": {
      "text/plain": [
       "223"
      ]
     },
     "execution_count": 4,
     "metadata": {},
     "output_type": "execute_result"
    }
   ],
   "source": [
    "df.count()"
   ]
  },
  {
   "cell_type": "markdown",
   "metadata": {},
   "source": [
    "show first few rows of table"
   ]
  },
  {
   "cell_type": "code",
   "execution_count": 5,
   "metadata": {},
   "outputs": [
    {
     "name": "stdout",
     "output_type": "stream",
     "text": [
      "+---+---------+----+-----+-------+---+----+-----+\n",
      "|_c0|StepCount|Kcal|Miles|Weather|Day|Walk|Steps|\n",
      "+---+---------+----+-----+-------+---+----+-----+\n",
      "|  1|     2615|   8|  1.4|  shine|  F|   0|2.615|\n",
      "|  2|     3323|  12|  1.8|  shine|  S|   0|3.323|\n",
      "|  3|     2721|  13|  1.4|  shine|  U|   0|2.721|\n",
      "|  4|     2454|  12|  1.3|  shine|  M|   0|2.454|\n",
      "|  5|     5528| 152|  3.1|   cold|  T|   1|5.528|\n",
      "+---+---------+----+-----+-------+---+----+-----+\n",
      "only showing top 5 rows\n",
      "\n"
     ]
    }
   ],
   "source": [
    "n = 5\n",
    "df.show(n)"
   ]
  },
  {
   "cell_type": "markdown",
   "metadata": {},
   "source": [
    "select first few rows of table"
   ]
  },
  {
   "cell_type": "code",
   "execution_count": 6,
   "metadata": {},
   "outputs": [
    {
     "name": "stdout",
     "output_type": "stream",
     "text": [
      "+----+\n",
      "|Kcal|\n",
      "+----+\n",
      "|   8|\n",
      "|  12|\n",
      "|  13|\n",
      "+----+\n",
      "only showing top 3 rows\n",
      "\n"
     ]
    }
   ],
   "source": [
    "df.select('Kcal').show(3)"
   ]
  },
  {
   "cell_type": "code",
   "execution_count": 7,
   "metadata": {},
   "outputs": [
    {
     "name": "stdout",
     "output_type": "stream",
     "text": [
      "+----+-----+\n",
      "|Kcal|Miles|\n",
      "+----+-----+\n",
      "|   8|  1.4|\n",
      "|  12|  1.8|\n",
      "|  13|  1.4|\n",
      "+----+-----+\n",
      "only showing top 3 rows\n",
      "\n"
     ]
    }
   ],
   "source": [
    "df.select(['Kcal','Miles']).show(3)"
   ]
  },
  {
   "cell_type": "markdown",
   "metadata": {},
   "source": [
    "PySpark to Pandas dataframe"
   ]
  },
  {
   "cell_type": "code",
   "execution_count": 8,
   "metadata": {},
   "outputs": [],
   "source": [
    "pd_df = df.toPandas()"
   ]
  },
  {
   "cell_type": "markdown",
   "metadata": {},
   "source": [
    "Columns data types"
   ]
  },
  {
   "cell_type": "code",
   "execution_count": 9,
   "metadata": {},
   "outputs": [
    {
     "name": "stdout",
     "output_type": "stream",
     "text": [
      "root\n",
      " |-- _c0: integer (nullable = true)\n",
      " |-- StepCount: integer (nullable = true)\n",
      " |-- Kcal: integer (nullable = true)\n",
      " |-- Miles: double (nullable = true)\n",
      " |-- Weather: string (nullable = true)\n",
      " |-- Day: string (nullable = true)\n",
      " |-- Walk: integer (nullable = true)\n",
      " |-- Steps: double (nullable = true)\n",
      "\n"
     ]
    }
   ],
   "source": [
    "df.printSchema()"
   ]
  },
  {
   "cell_type": "code",
   "execution_count": 10,
   "metadata": {},
   "outputs": [
    {
     "data": {
      "text/plain": [
       "[('_c0', 'int'),\n",
       " ('StepCount', 'int'),\n",
       " ('Kcal', 'int'),\n",
       " ('Miles', 'double'),\n",
       " ('Weather', 'string'),\n",
       " ('Day', 'string'),\n",
       " ('Walk', 'int'),\n",
       " ('Steps', 'double')]"
      ]
     },
     "execution_count": 10,
     "metadata": {},
     "output_type": "execute_result"
    }
   ],
   "source": [
    "df.dtypes"
   ]
  },
  {
   "cell_type": "markdown",
   "metadata": {},
   "source": [
    "Change column data type"
   ]
  },
  {
   "cell_type": "code",
   "execution_count": 11,
   "metadata": {},
   "outputs": [
    {
     "name": "stdout",
     "output_type": "stream",
     "text": [
      "root\n",
      " |-- _c0: integer (nullable = true)\n",
      " |-- StepCount: integer (nullable = true)\n",
      " |-- Kcal: float (nullable = true)\n",
      " |-- Miles: double (nullable = true)\n",
      " |-- Weather: string (nullable = true)\n",
      " |-- Day: string (nullable = true)\n",
      " |-- Walk: integer (nullable = true)\n",
      " |-- Steps: double (nullable = true)\n",
      "\n"
     ]
    }
   ],
   "source": [
    "from pyspark.sql.types import FloatType, StringType\n",
    "\n",
    "df = df.withColumn('Kcal', df['Kcal'].cast(FloatType()))\n",
    "df.printSchema()"
   ]
  },
  {
   "cell_type": "markdown",
   "metadata": {},
   "source": [
    "Rename column"
   ]
  },
  {
   "cell_type": "code",
   "execution_count": 12,
   "metadata": {},
   "outputs": [
    {
     "data": {
      "text/plain": [
       "DataFrame[_c0: int, StepCount: int, Calories: float, Miles: double, Weather: string, Day: string, Walk: int, Steps: double]"
      ]
     },
     "execution_count": 12,
     "metadata": {},
     "output_type": "execute_result"
    }
   ],
   "source": [
    "df.withColumnRenamed('Kcal','Calories')"
   ]
  },
  {
   "cell_type": "code",
   "execution_count": 13,
   "metadata": {},
   "outputs": [
    {
     "name": "stdout",
     "output_type": "stream",
     "text": [
      "root\n",
      " |-- _c0: integer (nullable = true)\n",
      " |-- StepCount: integer (nullable = true)\n",
      " |-- Kcal: float (nullable = true)\n",
      " |-- Distance (Miles): double (nullable = true)\n",
      " |-- Weather: string (nullable = true)\n",
      " |-- Day: string (nullable = true)\n",
      " |-- Walk: integer (nullable = true)\n",
      " |-- Steps: double (nullable = true)\n",
      "\n"
     ]
    }
   ],
   "source": [
    "name_pairs = [('Calories', 'Kcal'),\n",
    "              ('Miles', 'Distance (Miles)')]\n",
    "\n",
    "for old_name, new_name in name_pairs:\n",
    "    df = df.withColumnRenamed(old_name, new_name)\n",
    "\n",
    "df.printSchema()"
   ]
  },
  {
   "cell_type": "code",
   "execution_count": 14,
   "metadata": {},
   "outputs": [],
   "source": [
    "df = df.withColumnRenamed('Distance (Miles)', 'Miles')"
   ]
  },
  {
   "cell_type": "markdown",
   "metadata": {},
   "source": [
    "Summary statistics"
   ]
  },
  {
   "cell_type": "code",
   "execution_count": 15,
   "metadata": {},
   "outputs": [
    {
     "name": "stdout",
     "output_type": "stream",
     "text": [
      "+-------+------------------+------------------+------------------+\n",
      "|summary|              Kcal|             Miles|             Steps|\n",
      "+-------+------------------+------------------+------------------+\n",
      "|  count|               223|               223|               223|\n",
      "|   mean| 136.1390134529148|3.2152466367713015|  5.83180269058296|\n",
      "| stddev|119.91995623551091|1.6392540621690515|2.8840272981352184|\n",
      "|    min|               0.0|               0.0|             0.674|\n",
      "|    max|             791.0|              10.2|            18.194|\n",
      "+-------+------------------+------------------+------------------+\n",
      "\n"
     ]
    }
   ],
   "source": [
    "df.select(['Kcal','Miles','Steps']).describe().show()"
   ]
  },
  {
   "cell_type": "markdown",
   "metadata": {},
   "source": [
    "Null Values"
   ]
  },
  {
   "cell_type": "code",
   "execution_count": 16,
   "metadata": {},
   "outputs": [],
   "source": [
    "df = df.na.drop()"
   ]
  },
  {
   "cell_type": "code",
   "execution_count": 17,
   "metadata": {},
   "outputs": [],
   "source": [
    "df = df.na.drop(how='all') # drop rows where all values are null"
   ]
  },
  {
   "cell_type": "code",
   "execution_count": 18,
   "metadata": {},
   "outputs": [],
   "source": [
    "df = df.na.drop(thresh=2) # at least 2 non-null values"
   ]
  },
  {
   "cell_type": "code",
   "execution_count": 19,
   "metadata": {},
   "outputs": [],
   "source": [
    "df = df.na.drop(how='any', subset=['Kcal','Miles','Steps']) # drop rows where any of these columns are null"
   ]
  },
  {
   "cell_type": "code",
   "execution_count": 20,
   "metadata": {},
   "outputs": [],
   "source": [
    "df = df.na.fill(value='?', subset=['Day']) # fill null values with a string "
   ]
  },
  {
   "cell_type": "code",
   "execution_count": 21,
   "metadata": {},
   "outputs": [
    {
     "name": "stdout",
     "output_type": "stream",
     "text": [
      "+---+---------+----+-----+-------+---+----+-----+\n",
      "|_c0|StepCount|Kcal|Miles|Weather|Day|Walk|Steps|\n",
      "+---+---------+----+-----+-------+---+----+-----+\n",
      "|  1|     2615| 8.0|  1.4|  shine|  F|   0|2.615|\n",
      "|  2|     3323|12.0|  1.8|  shine|  S|   0|3.323|\n",
      "|  3|     2721|13.0|  1.4|  shine|  U|   0|2.721|\n",
      "+---+---------+----+-----+-------+---+----+-----+\n",
      "only showing top 3 rows\n",
      "\n"
     ]
    }
   ],
   "source": [
    "from pyspark.ml.feature import Imputer\n",
    "\n",
    "imputer = Imputer(\n",
    "    inputCols=['Kcal','Miles','Steps'],\n",
    "    outputCols=['Kcal','Miles','Steps']\n",
    ").setStrategy('mean')\n",
    "\n",
    "df = imputer.fit(df).transform(df)\n",
    "df.show(3)"
   ]
  },
  {
   "cell_type": "markdown",
   "metadata": {},
   "source": [
    "Filtering"
   ]
  },
  {
   "cell_type": "code",
   "execution_count": 22,
   "metadata": {},
   "outputs": [
    {
     "name": "stdout",
     "output_type": "stream",
     "text": [
      "+---+---------+-----+-----+-------+---+----+------+\n",
      "|_c0|StepCount| Kcal|Miles|Weather|Day|Walk| Steps|\n",
      "+---+---------+-----+-----+-------+---+----+------+\n",
      "| 12|    11251|353.0|  6.3|   cold|  T|   0|11.251|\n",
      "| 21|    10204|337.0|  5.7|   cold|  R|   0|10.204|\n",
      "| 39|    11980|378.0|  6.7|   cold|  M|   0| 11.98|\n",
      "+---+---------+-----+-----+-------+---+----+------+\n",
      "only showing top 3 rows\n",
      "\n"
     ]
    }
   ],
   "source": [
    "df.filter('Kcal > 300').show(3)"
   ]
  },
  {
   "cell_type": "code",
   "execution_count": 23,
   "metadata": {},
   "outputs": [
    {
     "name": "stdout",
     "output_type": "stream",
     "text": [
      "+---+---------+-----+-----+-------+---+----+------+\n",
      "|_c0|StepCount| Kcal|Miles|Weather|Day|Walk| Steps|\n",
      "+---+---------+-----+-----+-------+---+----+------+\n",
      "| 12|    11251|353.0|  6.3|   cold|  T|   0|11.251|\n",
      "| 21|    10204|337.0|  5.7|   cold|  R|   0|10.204|\n",
      "| 39|    11980|378.0|  6.7|   cold|  M|   0| 11.98|\n",
      "+---+---------+-----+-----+-------+---+----+------+\n",
      "only showing top 3 rows\n",
      "\n"
     ]
    }
   ],
   "source": [
    "df.where('Kcal > 300').show(3)"
   ]
  },
  {
   "cell_type": "code",
   "execution_count": 24,
   "metadata": {},
   "outputs": [
    {
     "name": "stdout",
     "output_type": "stream",
     "text": [
      "+---+---------+-----+-----+-------+---+----+------+\n",
      "|_c0|StepCount| Kcal|Miles|Weather|Day|Walk| Steps|\n",
      "+---+---------+-----+-----+-------+---+----+------+\n",
      "| 12|    11251|353.0|  6.3|   cold|  T|   0|11.251|\n",
      "| 21|    10204|337.0|  5.7|   cold|  R|   0|10.204|\n",
      "| 39|    11980|378.0|  6.7|   cold|  M|   0| 11.98|\n",
      "+---+---------+-----+-----+-------+---+----+------+\n",
      "only showing top 3 rows\n",
      "\n"
     ]
    }
   ],
   "source": [
    "df.where(df['Kcal']>300).show(3)"
   ]
  },
  {
   "cell_type": "code",
   "execution_count": 25,
   "metadata": {},
   "outputs": [
    {
     "name": "stdout",
     "output_type": "stream",
     "text": [
      "+---+---------+-----+-----+-------+---+----+------+\n",
      "|_c0|StepCount| Kcal|Miles|Weather|Day|Walk| Steps|\n",
      "+---+---------+-----+-----+-------+---+----+------+\n",
      "| 12|    11251|353.0|  6.3|   cold|  T|   0|11.251|\n",
      "| 39|    11980|378.0|  6.7|   cold|  M|   0| 11.98|\n",
      "| 41|    12787|393.0|  7.2|   cold|  W|   0|12.787|\n",
      "+---+---------+-----+-----+-------+---+----+------+\n",
      "only showing top 3 rows\n",
      "\n"
     ]
    }
   ],
   "source": [
    "df.where((df['Kcal']>300)&(df['Miles']>6)).show(3)"
   ]
  },
  {
   "cell_type": "code",
   "execution_count": 26,
   "metadata": {},
   "outputs": [
    {
     "name": "stdout",
     "output_type": "stream",
     "text": [
      "+---+---------+-----+-----+-------+---+----+------+\n",
      "|_c0|StepCount| Kcal|Miles|Weather|Day|Walk| Steps|\n",
      "+---+---------+-----+-----+-------+---+----+------+\n",
      "|  5|     5528|152.0|  3.1|   cold|  T|   1| 5.528|\n",
      "| 12|    11251|353.0|  6.3|   cold|  T|   0|11.251|\n",
      "| 19|     8444|272.0|  4.7|   cold|  T|   0| 8.444|\n",
      "+---+---------+-----+-----+-------+---+----+------+\n",
      "only showing top 3 rows\n",
      "\n"
     ]
    }
   ],
   "source": [
    "df.where((df['Kcal']>500)|(df['Day']=='T')).show(3)"
   ]
  },
  {
   "cell_type": "code",
   "execution_count": 27,
   "metadata": {},
   "outputs": [
    {
     "name": "stdout",
     "output_type": "stream",
     "text": [
      "+---+---------+----+-----+-------+---+----+-----+\n",
      "|_c0|StepCount|Kcal|Miles|Weather|Day|Walk|Steps|\n",
      "+---+---------+----+-----+-------+---+----+-----+\n",
      "|  1|     2615| 8.0|  1.4|  shine|  F|   0|2.615|\n",
      "|  2|     3323|12.0|  1.8|  shine|  S|   0|3.323|\n",
      "|  3|     2721|13.0|  1.4|  shine|  U|   0|2.721|\n",
      "+---+---------+----+-----+-------+---+----+-----+\n",
      "only showing top 3 rows\n",
      "\n"
     ]
    }
   ],
   "source": [
    "df.filter(~(df['Kcal']>300)).show(3)"
   ]
  },
  {
   "cell_type": "markdown",
   "metadata": {},
   "source": [
    "Evaluation a string"
   ]
  },
  {
   "cell_type": "code",
   "execution_count": 28,
   "metadata": {},
   "outputs": [
    {
     "name": "stdout",
     "output_type": "stream",
     "text": [
      "+---+---------+----+-----+-------+---+----+-----+------------------+\n",
      "|_c0|StepCount|Kcal|Miles|Weather|Day|Walk|Steps|          Calories|\n",
      "+---+---------+----+-----+-------+---+----+-----+------------------+\n",
      "|  1|     2615| 8.0|  1.4|  shine|  F|   0|2.615|           10.7075|\n",
      "|  2|     3323|12.0|  1.8|  shine|  S|   0|3.323|15.461500000000001|\n",
      "|  3|     2721|13.0|  1.4|  shine|  U|   0|2.721|           15.7605|\n",
      "+---+---------+----+-----+-------+---+----+-----+------------------+\n",
      "only showing top 3 rows\n",
      "\n"
     ]
    }
   ],
   "source": [
    "from pyspark.sql.functions import expr\n",
    "\n",
    "expression = 'Kcal + Miles + Steps*0.5'\n",
    "\n",
    "df.withColumn('Calories', expr(expression)).show(3)"
   ]
  },
  {
   "cell_type": "markdown",
   "metadata": {},
   "source": [
    "Group By"
   ]
  },
  {
   "cell_type": "code",
   "execution_count": 29,
   "metadata": {},
   "outputs": [
    {
     "name": "stdout",
     "output_type": "stream",
     "text": [
      "+---+------------------+------------------+------------------+\n",
      "|Day|         avg(Kcal)|        avg(Miles)|        avg(Steps)|\n",
      "+---+------------------+------------------+------------------+\n",
      "|  F|154.63636363636363|3.4484848484848487| 6.248121212121212|\n",
      "|  T|         165.53125| 3.646875000000001|6.5882187499999985|\n",
      "|  M|157.72413793103448| 3.527586206896552| 6.390896551724138|\n",
      "|  U| 69.60714285714286| 2.153571428571429| 3.957107142857143|\n",
      "|  W|         151.96875| 3.312499999999999| 6.034031249999998|\n",
      "|  S| 86.62857142857143| 2.811428571428571| 5.089285714285713|\n",
      "|  R|162.97058823529412| 3.514705882352942| 6.356823529411763|\n",
      "+---+------------------+------------------+------------------+\n",
      "\n"
     ]
    }
   ],
   "source": [
    "df.groupby('Day').mean().select(['Day','avg(Kcal)','avg(Miles)','avg(Steps)']).show()"
   ]
  },
  {
   "cell_type": "code",
   "execution_count": 30,
   "metadata": {},
   "outputs": [
    {
     "name": "stdout",
     "output_type": "stream",
     "text": [
      "+-------+---+-----+\n",
      "|Weather|Day|count|\n",
      "+-------+---+-----+\n",
      "|   cold|  S|   11|\n",
      "|  shine|  W|   19|\n",
      "|   rain|  M|    3|\n",
      "+-------+---+-----+\n",
      "only showing top 3 rows\n",
      "\n"
     ]
    }
   ],
   "source": [
    "df.groupby(['Weather','Day']).count().show(3)"
   ]
  },
  {
   "cell_type": "code",
   "execution_count": 31,
   "metadata": {},
   "outputs": [
    {
     "name": "stdout",
     "output_type": "stream",
     "text": [
      "+-------+---+-----+\n",
      "|Weather|Day|count|\n",
      "+-------+---+-----+\n",
      "|  shine|  F|   20|\n",
      "|  shine|  S|   20|\n",
      "|  shine|  W|   19|\n",
      "|  shine|  T|   17|\n",
      "|  shine|  M|   16|\n",
      "+-------+---+-----+\n",
      "only showing top 5 rows\n",
      "\n"
     ]
    }
   ],
   "source": [
    "from pyspark.sql.functions import desc, asc\n",
    "\n",
    "df.groupby(['Weather','Day']).count().orderBy(desc('count')).show(5)"
   ]
  },
  {
   "cell_type": "code",
   "execution_count": 32,
   "metadata": {},
   "outputs": [
    {
     "name": "stdout",
     "output_type": "stream",
     "text": [
      "+---+---------+---------+----------+\n",
      "|Day|min(Kcal)|max(Kcal)|count(Day)|\n",
      "+---+---------+---------+----------+\n",
      "|  F|      0.0|    447.0|        33|\n",
      "|  T|     10.0|    791.0|        32|\n",
      "|  M|      0.0|    378.0|        29|\n",
      "+---+---------+---------+----------+\n",
      "only showing top 3 rows\n",
      "\n"
     ]
    }
   ],
   "source": [
    "from pyspark.sql import functions as F\n",
    "\n",
    "df.groupby('Day').agg(F.min('Kcal'), F.max('Kcal'), F.count('Day')).show(3)"
   ]
  },
  {
   "cell_type": "markdown",
   "metadata": {},
   "source": [
    "SQL Syntax"
   ]
  },
  {
   "cell_type": "code",
   "execution_count": 33,
   "metadata": {},
   "outputs": [],
   "source": [
    "df.createOrReplaceTempView('Calories')\n",
    "spark.sql('SELECT * FROM Calories').show(3)"
   ]
  },
  {
   "cell_type": "markdown",
   "metadata": {},
   "source": [
    "Pivoting"
   ]
  },
  {
   "cell_type": "code",
   "execution_count": 34,
   "metadata": {},
   "outputs": [
    {
     "name": "stdout",
     "output_type": "stream",
     "text": [
      "+---+---------+----+-----+-------+---+----+-----+\n",
      "|_c0|StepCount|Kcal|Miles|Weather|Day|Walk|Steps|\n",
      "+---+---------+----+-----+-------+---+----+-----+\n",
      "|  1|     2615| 8.0|  1.4|  shine|  F|   0|2.615|\n",
      "|  2|     3323|12.0|  1.8|  shine|  S|   0|3.323|\n",
      "|  3|     2721|13.0|  1.4|  shine|  U|   0|2.721|\n",
      "+---+---------+----+-----+-------+---+----+-----+\n",
      "only showing top 3 rows\n",
      "\n"
     ]
    }
   ],
   "source": [
    "df.show(3)"
   ]
  },
  {
   "cell_type": "code",
   "execution_count": 35,
   "metadata": {},
   "outputs": [
    {
     "name": "stdout",
     "output_type": "stream",
     "text": [
      "+-------+---+---+---+---+---+---+---+\n",
      "|Weather|  F|  M|  R|  S|  T|  U|  W|\n",
      "+-------+---+---+---+---+---+---+---+\n",
      "|   rain|  6|  3| 11|  4|  4|  3|  4|\n",
      "|  shine| 20| 16| 15| 20| 17| 12| 19|\n",
      "|   cold|  7| 10|  8| 11| 11| 13|  9|\n",
      "+-------+---+---+---+---+---+---+---+\n",
      "\n"
     ]
    }
   ],
   "source": [
    "df.groupby('Weather').pivot('Day').count().show()"
   ]
  },
  {
   "cell_type": "code",
   "execution_count": 36,
   "metadata": {},
   "outputs": [
    {
     "name": "stdout",
     "output_type": "stream",
     "text": [
      "+-------+---+---+---+---+---+---+---+\n",
      "|Weather|  M|  T|  W|  U|  F|  S|  R|\n",
      "+-------+---+---+---+---+---+---+---+\n",
      "|   rain|  3|  4|  4|  3|  6|  4| 11|\n",
      "|  shine| 16| 17| 19| 12| 20| 20| 15|\n",
      "|   cold| 10| 11|  9| 13|  7| 11|  8|\n",
      "+-------+---+---+---+---+---+---+---+\n",
      "\n"
     ]
    }
   ],
   "source": [
    " df.groupby('Weather').pivot('Day',('M','T','W','U','F','S','R')).count().show()"
   ]
  },
  {
   "cell_type": "markdown",
   "metadata": {},
   "source": [
    "Combining Commands"
   ]
  },
  {
   "cell_type": "code",
   "execution_count": 37,
   "metadata": {},
   "outputs": [
    {
     "name": "stdout",
     "output_type": "stream",
     "text": [
      "+------+-----+-------+\n",
      "|Active|Miles|Weather|\n",
      "+------+-----+-------+\n",
      "| false|  1.4|  shine|\n",
      "| false|  1.8|  shine|\n",
      "| false|  1.4|  shine|\n",
      "+------+-----+-------+\n",
      "only showing top 3 rows\n",
      "\n"
     ]
    }
   ],
   "source": [
    "df.selectExpr(\n",
    "    'Kcal > 300 as Active',\n",
    "    'Miles',\n",
    "    'Weather'\n",
    ").show(3)"
   ]
  },
  {
   "cell_type": "code",
   "execution_count": 38,
   "metadata": {},
   "outputs": [
    {
     "name": "stdout",
     "output_type": "stream",
     "text": [
      "+-------+----+-----+\n",
      "|Weather|true|false|\n",
      "+-------+----+-----+\n",
      "|   rain|   6|   29|\n",
      "|  shine|   9|  110|\n",
      "|   cold|   8|   61|\n",
      "+-------+----+-----+\n",
      "\n"
     ]
    }
   ],
   "source": [
    "df.selectExpr(\n",
    "    'Kcal > 300 as Active',\n",
    "    'Miles',\n",
    "    'Weather'\n",
    ").groupby('Weather') \\\n",
    ".pivot('Active',('true', 'false')).count().show()"
   ]
  },
  {
   "cell_type": "markdown",
   "metadata": {},
   "source": [
    "Split Dataset"
   ]
  },
  {
   "cell_type": "code",
   "execution_count": 39,
   "metadata": {},
   "outputs": [],
   "source": [
    "train, test = df.randomSplit([0.7, 0.3])"
   ]
  },
  {
   "cell_type": "markdown",
   "metadata": {},
   "source": [
    "Feature Vectors"
   ]
  },
  {
   "cell_type": "code",
   "execution_count": 40,
   "metadata": {},
   "outputs": [],
   "source": [
    "col_names = ['Steps','Miles','Walk']"
   ]
  },
  {
   "cell_type": "code",
   "execution_count": 41,
   "metadata": {},
   "outputs": [
    {
     "name": "stdout",
     "output_type": "stream",
     "text": [
      "+---+---------+----+-----+-------+---+----+-----+---------------+\n",
      "|_c0|StepCount|Kcal|Miles|Weather|Day|Walk|Steps|       features|\n",
      "+---+---------+----+-----+-------+---+----+-----+---------------+\n",
      "|  1|     2615| 8.0|  1.4|  shine|  F|   0|2.615|[2.615,1.4,0.0]|\n",
      "|  3|     2721|13.0|  1.4|  shine|  U|   0|2.721|[2.721,1.4,0.0]|\n",
      "|  4|     2454|12.0|  1.3|  shine|  M|   0|2.454|[2.454,1.3,0.0]|\n",
      "+---+---------+----+-----+-------+---+----+-----+---------------+\n",
      "only showing top 3 rows\n",
      "\n"
     ]
    }
   ],
   "source": [
    "from pyspark.ml.feature import VectorAssembler\n",
    "\n",
    "assembler = VectorAssembler(inputCols=col_names, outputCol='features')\n",
    "\n",
    "train = assembler.transform(train)\n",
    "test = assembler.transform(test)\n",
    "\n",
    "train.show(3)"
   ]
  },
  {
   "cell_type": "markdown",
   "metadata": {},
   "source": [
    "Using a Machine Learning Model"
   ]
  },
  {
   "cell_type": "code",
   "execution_count": 42,
   "metadata": {},
   "outputs": [],
   "source": [
    "from pyspark.ml.regression import LinearRegression\n",
    "\n",
    "model = LinearRegression(\n",
    "    featuresCol='features', # features\n",
    "    labelCol='Kcal', # target\n",
    ")\n",
    "\n",
    "model = model.fit(train)"
   ]
  },
  {
   "cell_type": "code",
   "execution_count": 43,
   "metadata": {},
   "outputs": [
    {
     "data": {
      "text/plain": [
       "DenseVector([120.6011, -147.8038, 30.8218])"
      ]
     },
     "execution_count": 43,
     "metadata": {},
     "output_type": "execute_result"
    }
   ],
   "source": [
    "model.coefficients"
   ]
  },
  {
   "cell_type": "code",
   "execution_count": 44,
   "metadata": {},
   "outputs": [
    {
     "data": {
      "text/plain": [
       "-101.31479297222"
      ]
     },
     "execution_count": 44,
     "metadata": {},
     "output_type": "execute_result"
    }
   ],
   "source": [
    "model.intercept"
   ]
  },
  {
   "cell_type": "code",
   "execution_count": 45,
   "metadata": {},
   "outputs": [
    {
     "name": "stdout",
     "output_type": "stream",
     "text": [
      "+---+---------+----+-----+-------+---+----+-----+---------------+------------------+\n",
      "|_c0|StepCount|Kcal|Miles|Weather|Day|Walk|Steps|       features|        prediction|\n",
      "+---+---------+----+-----+-------+---+----+-----+---------------+------------------+\n",
      "|  2|     3323|12.0|  1.8|  shine|  S|   0|3.323|[3.323,1.8,0.0]|33.396032746374004|\n",
      "|  7|     4988|65.0|  2.7|  shine|  R|   0|4.988|[4.988,2.7,0.0]| 101.1735495830016|\n",
      "|  9|     4567|35.0|  2.6|  shine|  S|   0|4.567|[4.567,2.6,0.0]|  65.1808461932155|\n",
      "+---+---------+----+-----+-------+---+----+-----+---------------+------------------+\n",
      "only showing top 3 rows\n",
      "\n"
     ]
    }
   ],
   "source": [
    "y_preds = model.evaluate(test).predictions;y_preds.show(3)"
   ]
  }
 ],
 "metadata": {
  "kernelspec": {
   "display_name": "Python 3",
   "language": "python",
   "name": "python3"
  },
  "language_info": {
   "codemirror_mode": {
    "name": "ipython",
    "version": 3
   },
   "file_extension": ".py",
   "mimetype": "text/x-python",
   "name": "python",
   "nbconvert_exporter": "python",
   "pygments_lexer": "ipython3",
   "version": "3.11.3"
  },
  "orig_nbformat": 4
 },
 "nbformat": 4,
 "nbformat_minor": 2
}
