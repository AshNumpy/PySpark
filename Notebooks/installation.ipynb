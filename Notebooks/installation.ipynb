{
 "cells": [
  {
   "cell_type": "markdown",
   "metadata": {},
   "source": [
    "### Installation\n",
    "\n",
    "1. First you should install the *PySpark*. You can install it with using pip:  \n",
    "    `pip install pyspark`  \n",
    "\n",
    "\n",
    "1. install java and create JAVA_HOME environment:  \n",
    "    * go to the official website: [https://www.oracle.com/java/technologies](https://www.oracle.com/java/technologies/downloads/)  \n",
    "    * Download the version which one is suits for your pc and install it\n",
    "    * go to system environment and create JAVA_HOME environment.  \n",
    "\n",
    "\n",
    "1. Hadoop environment should be installed:\n",
    "    * got to the official website: [https://spark.apache.org/downloads.html](https://spark.apache.org/downloads.html)\n",
    "    * Download the version which one is suits for your pc and install it\n",
    "    * go to system environment and create HADOOP_HOME environment.  \n",
    "\n",
    "\n",
    "1. Download right winutils.exe version from GitHub and replace to hadoops .\\bin file"
   ]
  }
 ],
 "metadata": {
  "language_info": {
   "name": "python"
  },
  "orig_nbformat": 4
 },
 "nbformat": 4,
 "nbformat_minor": 2
}
